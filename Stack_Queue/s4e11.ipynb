{
 "cells": [
  {
   "cell_type": "code",
   "execution_count": null,
   "metadata": {
    "vscode": {
     "languageId": "plaintext"
    }
   },
   "outputs": [],
   "source": []
  },
  {
   "cell_type": "code",
   "execution_count": null,
   "metadata": {
    "vscode": {
     "languageId": "plaintext"
    }
   },
   "outputs": [],
   "source": [
    "import pandas as pd\n",
    "import numpy as np "
   ]
  },
  {
   "cell_type": "code",
   "execution_count": null,
   "metadata": {
    "vscode": {
     "languageId": "plaintext"
    }
   },
   "outputs": [],
   "source": [
    "def check_columns(df, df_test):\n",
    "    extra_columns_df = [col for col in df.columns if col not in df_test.columns]\n",
    "    extra_columns_df_test = [col for col in df_test.columns if col not in df.columns]\n",
    "    if extra_columns_df or extra_columns_df_test:\n",
    "        print(\"Extra_columns_in_df\",extra_columns_df)\n",
    "        '''print(extra_columns_df_test)'''\n",
    "    else:\n",
    "        return None\n",
    "\n",
    "\n",
    "def check_columns_dtype(df,df_test):\n",
    "    print(df.dtypes.value_counts())\n",
    "    print()\n",
    "    print(df_test.dtypes.value_counts())\n",
    "    print()\n",
    "\n",
    "\n",
    "def to_predict(df_sample):\n",
    "    print(\"We have to predict the:\",df_sample.columns)\n",
    "    \n",
    "    \n",
    "    \n",
    "def check_null_values(df,df_test):\n",
    "    print(\"NUll values in the df:\"), print(df.isnull().sum()),print()\n",
    "    print(\"Null values in the df_test:\"),print(df_test.isnull().sum())\n",
    "    \n",
    "\n",
    "                                         \n",
    "'''MAIN CDOE'''        \n",
    "\n",
    "df= pd.read_csv('/kaggle/input/playground-series-s4e11/train.csv')\n",
    "df_test=pd.read_csv('/kaggle/input/playground-series-s4e11/test.csv')\n",
    "df_sample =pd.read_csv('/kaggle/input/playground-series-s4e11/sample_submission.csv')\n",
    "\n",
    "check_columns(df, df_test), print(),print()\n",
    "\n",
    "check_columns_dtype(df,df_test),print()\n",
    "\n",
    "to_predict(df_sample), print(), print()\n",
    "\n",
    "check_null_values(df,df_test)"
   ]
  },
  {
   "cell_type": "code",
   "execution_count": null,
   "metadata": {
    "vscode": {
     "languageId": "plaintext"
    }
   },
   "outputs": [],
   "source": [
    "df_p= pd.read_csv('/kaggle/input/playground-series-s4e11/train.csv')\n",
    "for column in df_p.columns:\n",
    "    print(f\"\\nValue counts for {column}:\")\n",
    "    print(df_p[column].value_counts(dropna=False))\n",
    "    print(\"-\" * 50)  "
   ]
  },
  {
   "cell_type": "code",
   "execution_count": null,
   "metadata": {
    "vscode": {
     "languageId": "plaintext"
    }
   },
   "outputs": [],
   "source": [
    "df1= pd.read_csv('/kaggle/input/playground-series-s4e11/train.csv')\n",
    "df_final = pd.read_csv('/kaggle/input/depression-surveydataset-for-analysis/final_depression_dataset_1.csv')"
   ]
  },
  {
   "cell_type": "code",
   "execution_count": null,
   "metadata": {},
   "outputs": [
    {
     "data": {
      "text/plain": [
       "Traceback (most recent call last):\n",
       "  File \"c:\\Users\\nannu\\.vscode\\extensions\\ms-python.python-2024.18.0-win32-x64\\python_files\\python_server.py\", line 130, in exec_user_input\n",
       "    retval = callable_(user_input, user_globals)\n",
       "             ^^^^^^^^^^^^^^^^^^^^^^^^^^^^^^^^^^^\n",
       "  File \"<string>\", line 11, in <module>\n",
       "NameError: name 'df' is not defined\n",
       "\n"
      ]
     },
     "metadata": {},
     "output_type": "display_data"
    }
   ],
   "source": [
    "def count_unique_values(dataframe):\n",
    "    unique_counts = {}\n",
    "    \n",
    "    for column in dataframe.columns:\n",
    "        unique_values = dataframe[column].nunique()\n",
    "        unique_counts[column] = unique_values\n",
    "    \n",
    "    return unique_counts\n",
    "\n",
    "# Call the function with your DataFrame\n",
    "result = count_unique_values(df)\n",
    "\n",
    "# Print the results\n",
    "for column, count in result.items():\n",
    "    print(f\"'{column}':has {count} unique values\")"
   ]
  },
  {
   "cell_type": "code",
   "execution_count": null,
   "metadata": {},
   "outputs": [],
   "source": [
    "# Droping the necesaary columns to reduce the dimensionality of the dataset# \n",
    "# I am sounding professional lol\n",
    "columns_to_drop = ['id', 'Name', 'City']\n",
    "\n",
    "\n",
    "# Drop the columns from df\n",
    "df = df.drop(columns=columns_to_drop, axis=1)\n",
    "\n",
    "# Drop the columns from df_test\n",
    "df_test = df_test.drop(columns=columns_to_drop, axis=1)\n",
    "\n",
    "# Drop the columns from df_final\n",
    "columns_to_o_drop = ['Name', 'City']\n",
    "df_final= df_final.drop(columns_to_o_drop,axis=1)"
   ]
  },
  {
   "cell_type": "code",
   "execution_count": null,
   "metadata": {},
   "outputs": [],
   "source": [
    "df_final = pd.read_csv('/kaggle/input/depression-surveydataset-for-analysis/final_depression_dataset_1.csv')\n",
    "columns_to_o_drop = ['Name', 'City']\n",
    "df_final= df_final.drop(columns_to_o_drop,axis=1)"
   ]
  },
  {
   "cell_type": "code",
   "execution_count": null,
   "metadata": {},
   "outputs": [],
   "source": [
    "print(df[\"Dietary Habits\"].unique())"
   ]
  },
  {
   "cell_type": "code",
   "execution_count": null,
   "metadata": {},
   "outputs": [
    {
     "data": {
      "text/plain": [
       "Traceback (most recent call last):\n",
       "  File \"c:\\Users\\nannu\\.vscode\\extensions\\ms-python.python-2024.18.0-win32-x64\\python_files\\python_server.py\", line 130, in exec_user_input\n",
       "    retval = callable_(user_input, user_globals)\n",
       "             ^^^^^^^^^^^^^^^^^^^^^^^^^^^^^^^^^^^\n",
       "  File \"<string>\", line 1, in <module>\n",
       "NameError: name 'pd' is not defined\n",
       "\n"
      ]
     },
     "metadata": {},
     "output_type": "display_data"
    }
   ],
   "source": [
    "df_Depressed = pd.read_csv('/kaggle/input/df-depressed/depressed_dataset/depressed_dataset.csv')"
   ]
  },
  {
   "cell_type": "code",
   "execution_count": null,
   "metadata": {},
   "outputs": [],
   "source": [
    "# df_final = pd.read_csv('/kaggle/input/depression-surveydataset-for-analysis/final_depression_dataset_1.csv')\n",
    "print(df_final.columns )\n",
    "print()  \n",
    "print()\n",
    "\n",
    "print(df_Depressed.columns)"
   ]
  },
  {
   "cell_type": "code",
   "execution_count": null,
   "metadata": {},
   "outputs": [],
   "source": [
    "\n",
    "# Assuming df1 and df2 are your two datasets\n",
    "df_balanced= pd.concat([df, df_Depressed], ignore_index=True)\n",
    "df_balanced['Depression'].value_counts()"
   ]
  },
  {
   "cell_type": "code",
   "execution_count": null,
   "metadata": {},
   "outputs": [],
   "source": [
    "# Display the first few rows of the new dataframe\n",
    "def count_unique_values(dataframe):\n",
    "    unique_counts = {}\n",
    "    \n",
    "    for column in dataframe.columns:\n",
    "        unique_values = dataframe[column].nunique()\n",
    "        unique_counts[column] = unique_values\n",
    "    \n",
    "    return unique_counts\n",
    "\n",
    "# Call the function with your DataFrame\n",
    "result = count_unique_values(df_balanced)\n",
    "\n",
    "# Print the results\n",
    "for column, count in result.items():\n",
    "    print(f\"'{column}':has {count} unique values\")"
   ]
  },
  {
   "cell_type": "code",
   "execution_count": null,
   "metadata": {},
   "outputs": [],
   "source": [
    "df_org = pd.concat([df_balanced, df_final],ignore_index= True)"
   ]
  },
  {
   "cell_type": "code",
   "execution_count": null,
   "metadata": {},
   "outputs": [],
   "source": [
    "df_org['Depression'] = df_org['Depression'].map({'No': 0, 'Yes': 1, 0: 0, 1: 1})\n",
    "df_org['Depression'].value_counts()"
   ]
  },
  {
   "cell_type": "code",
   "execution_count": null,
   "metadata": {},
   "outputs": [],
   "source": [
    "# Export DataFrame to CSV\n",
    "df_org.to_csv('df_balnced_combined.csv', index=False)"
   ]
  },
  {
   "cell_type": "code",
   "execution_count": null,
   "metadata": {},
   "outputs": [],
   "source": [
    "def clean_sleep_duration(value):\n",
    "    if pd.isna(value):\n",
    "        return value\n",
    "    \n",
    "    value = str(value).lower().strip()\n",
    "    \n",
    "    # Main categories mapping\n",
    "    if 'less than 5' in value or '< 5' in value:\n",
    "        return 'Less than 5 hours'\n",
    "    elif '5-6' in value or '4-6' in value:\n",
    "        return '5-6 hours'\n",
    "    elif '7-8' in value:\n",
    "        return '7-8 hours'\n",
    "    elif 'more than 8' in value or '> 8' in value:\n",
    "        return 'More than 8 hours'\n",
    "    elif any(x in value for x in ['1-', '2-', '3-', '4-']):\n",
    "        return 'Less than 5 hours'\n",
    "    else:\n",
    "        return 'Other'\n",
    "\n",
    "def clean_dietary_habits(value):\n",
    "    if pd.isna(value):\n",
    "        return value\n",
    "    \n",
    "    value = str(value).lower().strip()\n",
    "    \n",
    "    # Main categories mapping\n",
    "    if 'unhealthy' in value:\n",
    "        return 'Unhealthy'\n",
    "    elif 'moderate' in value:\n",
    "        return 'Moderate'\n",
    "    elif 'healthy' in value:\n",
    "        return 'Healthy'\n",
    "    else:\n",
    "        return 'Other'\n",
    "\n",
    "# Apply the cleaning functions to both DataFrames\n",
    "df['Sleep Duration'] = df['Sleep Duration'].apply(clean_sleep_duration)\n",
    "df['Dietary Habits'] = df['Dietary Habits'].apply(clean_dietary_habits)\n",
    "\n",
    "df_test['Sleep Duration'] = df_test['Sleep Duration'].apply(clean_sleep_duration)\n",
    "df_test['Dietary Habits'] = df_test['Dietary Habits'].apply(clean_dietary_habits)\n",
    "\n",
    "# Remove rows with 'Other' category if needed\n",
    "df = df[~(df['Sleep Duration'].isin(['Other'])) & ~(df['Dietary Habits'].isin(['Other']))]\n",
    "df_test = df_test[~(df_test['Sleep Duration'].isin(['Other'])) & ~(df_test['Dietary Habits'].isin(['Other']))]\n",
    "\n",
    "# Verify the cleaned categories\n",
    "print(\"Training Data:\")\n",
    "print(\"\\nSleep Duration value counts:\")\n",
    "print(df['Sleep Duration'].value_counts())\n",
    "print(\"\\nDietary Habits value counts:\")\n",
    "print(df['Dietary Habits'].value_counts())\n",
    "\n",
    "print(\"\\nTest Data:\")\n",
    "print(\"\\nSleep Duration value counts:\")\n",
    "print(df_test['Sleep Duration'].value_counts())\n",
    "print(\"\\nDietary Habits value counts:\")\n",
    "print(df_test['Dietary Habits'].value_counts())"
   ]
  },
  {
   "cell_type": "code",
   "execution_count": null,
   "metadata": {},
   "outputs": [],
   "source": []
  }
 ],
 "metadata": {
  "language_info": {
   "name": "python"
  }
 },
 "nbformat": 4,
 "nbformat_minor": 2
}
